{
 "cells": [
  {
   "cell_type": "code",
   "id": "initial_id",
   "metadata": {
    "collapsed": true,
    "ExecuteTime": {
     "end_time": "2024-09-09T06:34:15.216307Z",
     "start_time": "2024-09-09T06:34:15.216307Z"
    }
   },
   "source": [
    "import pandas as pd\n",
    "import numpy as np\n",
    "import seaborn as sns\n",
    "import matplotlib.pyplot as plt"
   ],
   "outputs": [],
   "execution_count": null
  },
  {
   "metadata": {},
   "cell_type": "code",
   "source": [
    "df=pd.read_csv(\"D:/2023-2024/HKII/DATASCIENCE/heart.csv\")\n",
    "df.head(20)"
   ],
   "id": "5c6796af8826b296",
   "outputs": [],
   "execution_count": null
  },
  {
   "metadata": {},
   "cell_type": "code",
   "source": "sex_percentage = df['sex'].value_counts(normalize=True) * 100\n",
   "id": "b083141c11873184",
   "outputs": [],
   "execution_count": null
  },
  {
   "metadata": {},
   "cell_type": "code",
   "source": [
    "print(\"Tỷ lệ phần trăm của giá trị 0 (nữ):\", sex_percentage[0])\n",
    "print(\"Tỷ lệ phần trăm của giá trị 1 (nam):\", sex_percentage[1])"
   ],
   "id": "3bbd050609aa023a",
   "outputs": [],
   "execution_count": null
  },
  {
   "metadata": {},
   "cell_type": "code",
   "source": "cp_percentage = df['chestpain'].value_counts(normalize=True) * 100",
   "id": "1d6d7c08d1e020ac",
   "outputs": [],
   "execution_count": null
  },
  {
   "metadata": {},
   "cell_type": "code",
   "source": [
    "print(\"Tỷ lệ phần trăm của giá trị 0 (nữ):\", cp_percentage[0])\n",
    "print(\"Tỷ lệ phần trăm của giá trị 1 (nam):\", cp_percentage[1])\n",
    "print(\"Tỷ lệ phần trăm của giá trị 1 (nam):\", cp_percentage[2])"
   ],
   "id": "4a3e779a366c8c62",
   "outputs": [],
   "execution_count": null
  },
  {
   "metadata": {},
   "cell_type": "code",
   "source": "sl_percentage = df['num'].value_counts(normalize=True) * 100",
   "id": "39c409e7a57fcd13",
   "outputs": [],
   "execution_count": null
  },
  {
   "metadata": {
    "ExecuteTime": {
     "start_time": "2024-09-09T06:34:14.788294Z"
    }
   },
   "cell_type": "code",
   "source": [
    "print(\"Tỷ lệ phần trăm của giá trị 0 (nữ):\", sl_percentage[0])\n",
    "print(\"Tỷ lệ phần trăm của giá trị 1 (nam):\", sl_percentage[1])\n",
    "print(\"Tỷ lệ phần trăm của giá trị 1 (nam):\", sl_percentage[2])\n",
    "print(\"Tỷ lệ phần trăm của giá trị 1 (nam):\", sl_percentage[3])"
   ],
   "id": "9861a83f7c252f28",
   "outputs": [],
   "execution_count": null
  },
  {
   "metadata": {},
   "cell_type": "code",
   "source": "",
   "id": "f39d1d2b7c3c49e2",
   "outputs": [],
   "execution_count": null
  },
  {
   "metadata": {},
   "cell_type": "code",
   "source": "",
   "id": "603698fcaee30fa4",
   "outputs": [],
   "execution_count": null
  },
  {
   "metadata": {},
   "cell_type": "code",
   "source": "",
   "id": "28d775a4619c7d23",
   "outputs": [],
   "execution_count": null
  }
 ],
 "metadata": {
  "kernelspec": {
   "display_name": "Python 3",
   "language": "python",
   "name": "python3"
  },
  "language_info": {
   "codemirror_mode": {
    "name": "ipython",
    "version": 2
   },
   "file_extension": ".py",
   "mimetype": "text/x-python",
   "name": "python",
   "nbconvert_exporter": "python",
   "pygments_lexer": "ipython2",
   "version": "2.7.6"
  }
 },
 "nbformat": 4,
 "nbformat_minor": 5
}
